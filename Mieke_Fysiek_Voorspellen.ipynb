{
 "cells": [
  {
   "cell_type": "code",
   "execution_count": 422,
   "id": "4e1f02c5",
   "metadata": {
    "scrolled": true
   },
   "outputs": [],
   "source": [
    "# Used for plotting data\n",
    "%matplotlib inline\n",
    "import matplotlib.pyplot as plt\n",
    "# Used for data storage and manipulation \n",
    "import numpy as np\n",
    "import pandas as pd\n",
    "# Used for Regression Modelling\n",
    "from sklearn.linear_model import LinearRegression\n",
    "from sklearn import linear_model\n",
    "from sklearn.model_selection import train_test_split\n",
    "# Used for Acc metrics\n",
    "from sklearn.metrics import mean_squared_error\n",
    "from sklearn.metrics import r2_score\n",
    "# For stepwise regression\n",
    "import statsmodels.api as sm\n",
    "# box plots\n",
    "import seaborn as sns\n",
    "# pairplot\n",
    "from seaborn import pairplot\n",
    "# Correlation plot\n",
    "from statsmodels.graphics.correlation import plot_corr"
   ]
  },
  {
   "cell_type": "code",
   "execution_count": 423,
   "id": "f4369cbe",
   "metadata": {
    "scrolled": true
   },
   "outputs": [
    {
     "data": {
      "text/html": [
       "<div>\n",
       "<style scoped>\n",
       "    .dataframe tbody tr th:only-of-type {\n",
       "        vertical-align: middle;\n",
       "    }\n",
       "\n",
       "    .dataframe tbody tr th {\n",
       "        vertical-align: top;\n",
       "    }\n",
       "\n",
       "    .dataframe thead th {\n",
       "        text-align: right;\n",
       "    }\n",
       "</style>\n",
       "<table border=\"1\" class=\"dataframe\">\n",
       "  <thead>\n",
       "    <tr style=\"text-align: right;\">\n",
       "      <th></th>\n",
       "      <th>volgcode</th>\n",
       "      <th>age_at_V1</th>\n",
       "      <th>BMI</th>\n",
       "      <th>BMI4category</th>\n",
       "      <th>V1_upperleg_length</th>\n",
       "      <th>V1_upperleg_cir</th>\n",
       "      <th>TMTBminA</th>\n",
       "      <th>TMTBdeelA</th>\n",
       "      <th>V2_TMT_partA</th>\n",
       "      <th>V2_TMT_partB</th>\n",
       "      <th>V2_SCWT_score</th>\n",
       "      <th>V2_LFT_score</th>\n",
       "      <th>RFMTmean</th>\n",
       "      <th>RFCSAmean</th>\n",
       "      <th>RFEImean</th>\n",
       "      <th>VLMTmean</th>\n",
       "      <th>VLCSAmean</th>\n",
       "      <th>VLEImean</th>\n",
       "      <th>RV2_TMT_A</th>\n",
       "      <th>RV2_TMT_B</th>\n",
       "      <th>RV2_SCWT</th>\n",
       "      <th>RV2_LFT_</th>\n",
       "      <th>RTMTBmin</th>\n",
       "      <th>RTMTBdee</th>\n",
       "      <th>MeanCognitive</th>\n",
       "      <th>Gender</th>\n",
       "      <th>Leefsituatie</th>\n",
       "      <th>Educatie</th>\n",
       "      <th>Roken</th>\n",
       "      <th>Metabolic age</th>\n",
       "    </tr>\n",
       "  </thead>\n",
       "  <tbody>\n",
       "    <tr>\n",
       "      <th>22</th>\n",
       "      <td>110038.0</td>\n",
       "      <td>80.0</td>\n",
       "      <td>21.4</td>\n",
       "      <td>2.0</td>\n",
       "      <td>39.4</td>\n",
       "      <td>45.0</td>\n",
       "      <td>124.0</td>\n",
       "      <td>3.95</td>\n",
       "      <td>42.0</td>\n",
       "      <td>166.0</td>\n",
       "      <td>49.5</td>\n",
       "      <td>40.0</td>\n",
       "      <td>0.573</td>\n",
       "      <td>3.051</td>\n",
       "      <td>47.864</td>\n",
       "      <td>1.873</td>\n",
       "      <td>13.124</td>\n",
       "      <td>57.888</td>\n",
       "      <td>0.6379</td>\n",
       "      <td>0.6747</td>\n",
       "      <td>0.4186</td>\n",
       "      <td>0.6264</td>\n",
       "      <td>0.6928</td>\n",
       "      <td>0.6627</td>\n",
       "      <td>0.62</td>\n",
       "      <td>0.0</td>\n",
       "      <td>1.0</td>\n",
       "      <td>3.0</td>\n",
       "      <td>3.0</td>\n",
       "      <td>65.0</td>\n",
       "    </tr>\n",
       "    <tr>\n",
       "      <th>62</th>\n",
       "      <td>110078.0</td>\n",
       "      <td>78.0</td>\n",
       "      <td>24.9</td>\n",
       "      <td>2.0</td>\n",
       "      <td>37.1</td>\n",
       "      <td>46.7</td>\n",
       "      <td>69.0</td>\n",
       "      <td>2.05</td>\n",
       "      <td>66.0</td>\n",
       "      <td>135.0</td>\n",
       "      <td>71.5</td>\n",
       "      <td>23.0</td>\n",
       "      <td>1.334</td>\n",
       "      <td>4.343</td>\n",
       "      <td>63.293</td>\n",
       "      <td>1.922</td>\n",
       "      <td>15.490</td>\n",
       "      <td>62.743</td>\n",
       "      <td>0.9770</td>\n",
       "      <td>0.6265</td>\n",
       "      <td>0.7558</td>\n",
       "      <td>0.1494</td>\n",
       "      <td>0.5542</td>\n",
       "      <td>0.2771</td>\n",
       "      <td>0.56</td>\n",
       "      <td>1.0</td>\n",
       "      <td>1.0</td>\n",
       "      <td>5.0</td>\n",
       "      <td>3.0</td>\n",
       "      <td>63.0</td>\n",
       "    </tr>\n",
       "    <tr>\n",
       "      <th>99</th>\n",
       "      <td>110115.0</td>\n",
       "      <td>77.0</td>\n",
       "      <td>34.8</td>\n",
       "      <td>4.0</td>\n",
       "      <td>38.0</td>\n",
       "      <td>62.0</td>\n",
       "      <td>82.0</td>\n",
       "      <td>3.28</td>\n",
       "      <td>36.0</td>\n",
       "      <td>118.0</td>\n",
       "      <td>64.0</td>\n",
       "      <td>39.0</td>\n",
       "      <td>0.441</td>\n",
       "      <td>2.140</td>\n",
       "      <td>71.610</td>\n",
       "      <td>1.534</td>\n",
       "      <td>7.790</td>\n",
       "      <td>64.631</td>\n",
       "      <td>0.4598</td>\n",
       "      <td>0.5783</td>\n",
       "      <td>0.6337</td>\n",
       "      <td>0.5747</td>\n",
       "      <td>0.5783</td>\n",
       "      <td>0.6024</td>\n",
       "      <td>0.57</td>\n",
       "      <td>0.0</td>\n",
       "      <td>1.0</td>\n",
       "      <td>0.0</td>\n",
       "      <td>2.0</td>\n",
       "      <td>74.0</td>\n",
       "    </tr>\n",
       "    <tr>\n",
       "      <th>72</th>\n",
       "      <td>110088.0</td>\n",
       "      <td>75.0</td>\n",
       "      <td>20.3</td>\n",
       "      <td>2.0</td>\n",
       "      <td>39.7</td>\n",
       "      <td>46.2</td>\n",
       "      <td>25.0</td>\n",
       "      <td>2.56</td>\n",
       "      <td>16.0</td>\n",
       "      <td>41.0</td>\n",
       "      <td>40.0</td>\n",
       "      <td>53.0</td>\n",
       "      <td>1.119</td>\n",
       "      <td>4.262</td>\n",
       "      <td>60.171</td>\n",
       "      <td>1.590</td>\n",
       "      <td>14.338</td>\n",
       "      <td>60.117</td>\n",
       "      <td>0.0115</td>\n",
       "      <td>0.0181</td>\n",
       "      <td>0.3140</td>\n",
       "      <td>0.8908</td>\n",
       "      <td>0.1205</td>\n",
       "      <td>0.4819</td>\n",
       "      <td>0.31</td>\n",
       "      <td>0.0</td>\n",
       "      <td>0.0</td>\n",
       "      <td>3.0</td>\n",
       "      <td>3.0</td>\n",
       "      <td>60.0</td>\n",
       "    </tr>\n",
       "    <tr>\n",
       "      <th>76</th>\n",
       "      <td>110092.0</td>\n",
       "      <td>72.0</td>\n",
       "      <td>39.0</td>\n",
       "      <td>4.0</td>\n",
       "      <td>42.0</td>\n",
       "      <td>62.5</td>\n",
       "      <td>22.0</td>\n",
       "      <td>1.69</td>\n",
       "      <td>32.0</td>\n",
       "      <td>54.0</td>\n",
       "      <td>57.5</td>\n",
       "      <td>33.0</td>\n",
       "      <td>1.669</td>\n",
       "      <td>9.368</td>\n",
       "      <td>57.913</td>\n",
       "      <td>2.112</td>\n",
       "      <td>24.229</td>\n",
       "      <td>55.349</td>\n",
       "      <td>0.3276</td>\n",
       "      <td>0.0904</td>\n",
       "      <td>0.5581</td>\n",
       "      <td>0.3621</td>\n",
       "      <td>0.0964</td>\n",
       "      <td>0.1325</td>\n",
       "      <td>0.26</td>\n",
       "      <td>0.0</td>\n",
       "      <td>0.0</td>\n",
       "      <td>3.0</td>\n",
       "      <td>3.0</td>\n",
       "      <td>87.0</td>\n",
       "    </tr>\n",
       "    <tr>\n",
       "      <th>4</th>\n",
       "      <td>110020.0</td>\n",
       "      <td>69.0</td>\n",
       "      <td>24.1</td>\n",
       "      <td>2.0</td>\n",
       "      <td>37.5</td>\n",
       "      <td>42.2</td>\n",
       "      <td>124.0</td>\n",
       "      <td>3.34</td>\n",
       "      <td>53.0</td>\n",
       "      <td>177.0</td>\n",
       "      <td>95.0</td>\n",
       "      <td>39.0</td>\n",
       "      <td>0.953</td>\n",
       "      <td>1.629</td>\n",
       "      <td>56.433</td>\n",
       "      <td>2.176</td>\n",
       "      <td>14.070</td>\n",
       "      <td>50.510</td>\n",
       "      <td>0.8161</td>\n",
       "      <td>0.7289</td>\n",
       "      <td>0.8721</td>\n",
       "      <td>0.5747</td>\n",
       "      <td>0.6928</td>\n",
       "      <td>0.6145</td>\n",
       "      <td>0.72</td>\n",
       "      <td>0.0</td>\n",
       "      <td>0.0</td>\n",
       "      <td>3.0</td>\n",
       "      <td>3.0</td>\n",
       "      <td>54.0</td>\n",
       "    </tr>\n",
       "    <tr>\n",
       "      <th>26</th>\n",
       "      <td>110042.0</td>\n",
       "      <td>72.0</td>\n",
       "      <td>31.2</td>\n",
       "      <td>4.0</td>\n",
       "      <td>38.0</td>\n",
       "      <td>61.8</td>\n",
       "      <td>232.0</td>\n",
       "      <td>11.09</td>\n",
       "      <td>23.0</td>\n",
       "      <td>255.0</td>\n",
       "      <td>49.5</td>\n",
       "      <td>37.0</td>\n",
       "      <td>1.294</td>\n",
       "      <td>3.714</td>\n",
       "      <td>52.882</td>\n",
       "      <td>2.556</td>\n",
       "      <td>20.267</td>\n",
       "      <td>42.923</td>\n",
       "      <td>0.0805</td>\n",
       "      <td>0.8675</td>\n",
       "      <td>0.4186</td>\n",
       "      <td>0.5000</td>\n",
       "      <td>0.8976</td>\n",
       "      <td>0.9880</td>\n",
       "      <td>0.63</td>\n",
       "      <td>0.0</td>\n",
       "      <td>1.0</td>\n",
       "      <td>4.0</td>\n",
       "      <td>2.0</td>\n",
       "      <td>70.0</td>\n",
       "    </tr>\n",
       "    <tr>\n",
       "      <th>44</th>\n",
       "      <td>110060.0</td>\n",
       "      <td>71.0</td>\n",
       "      <td>24.1</td>\n",
       "      <td>2.0</td>\n",
       "      <td>44.6</td>\n",
       "      <td>50.2</td>\n",
       "      <td>45.0</td>\n",
       "      <td>2.41</td>\n",
       "      <td>32.0</td>\n",
       "      <td>77.0</td>\n",
       "      <td>49.5</td>\n",
       "      <td>32.0</td>\n",
       "      <td>1.002</td>\n",
       "      <td>5.671</td>\n",
       "      <td>61.812</td>\n",
       "      <td>1.816</td>\n",
       "      <td>13.377</td>\n",
       "      <td>65.185</td>\n",
       "      <td>0.3276</td>\n",
       "      <td>0.3614</td>\n",
       "      <td>0.4186</td>\n",
       "      <td>0.3448</td>\n",
       "      <td>0.3916</td>\n",
       "      <td>0.4337</td>\n",
       "      <td>0.38</td>\n",
       "      <td>0.0</td>\n",
       "      <td>1.0</td>\n",
       "      <td>4.0</td>\n",
       "      <td>2.0</td>\n",
       "      <td>56.0</td>\n",
       "    </tr>\n",
       "    <tr>\n",
       "      <th>84</th>\n",
       "      <td>110100.0</td>\n",
       "      <td>70.0</td>\n",
       "      <td>23.7</td>\n",
       "      <td>2.0</td>\n",
       "      <td>39.5</td>\n",
       "      <td>45.3</td>\n",
       "      <td>31.0</td>\n",
       "      <td>1.76</td>\n",
       "      <td>41.0</td>\n",
       "      <td>72.0</td>\n",
       "      <td>30.0</td>\n",
       "      <td>39.0</td>\n",
       "      <td>1.051</td>\n",
       "      <td>3.698</td>\n",
       "      <td>61.429</td>\n",
       "      <td>2.158</td>\n",
       "      <td>11.295</td>\n",
       "      <td>69.172</td>\n",
       "      <td>0.6034</td>\n",
       "      <td>0.2892</td>\n",
       "      <td>0.0756</td>\n",
       "      <td>0.5747</td>\n",
       "      <td>0.2169</td>\n",
       "      <td>0.1446</td>\n",
       "      <td>0.32</td>\n",
       "      <td>0.0</td>\n",
       "      <td>1.0</td>\n",
       "      <td>3.0</td>\n",
       "      <td>2.0</td>\n",
       "      <td>63.0</td>\n",
       "    </tr>\n",
       "    <tr>\n",
       "      <th>6</th>\n",
       "      <td>110022.0</td>\n",
       "      <td>83.0</td>\n",
       "      <td>25.7</td>\n",
       "      <td>3.0</td>\n",
       "      <td>37.2</td>\n",
       "      <td>48.4</td>\n",
       "      <td>45.0</td>\n",
       "      <td>2.02</td>\n",
       "      <td>44.0</td>\n",
       "      <td>89.0</td>\n",
       "      <td>118.0</td>\n",
       "      <td>35.0</td>\n",
       "      <td>0.820</td>\n",
       "      <td>3.039</td>\n",
       "      <td>68.756</td>\n",
       "      <td>2.071</td>\n",
       "      <td>16.011</td>\n",
       "      <td>52.035</td>\n",
       "      <td>0.7069</td>\n",
       "      <td>0.4337</td>\n",
       "      <td>0.9302</td>\n",
       "      <td>0.4253</td>\n",
       "      <td>0.3916</td>\n",
       "      <td>0.2530</td>\n",
       "      <td>0.52</td>\n",
       "      <td>1.0</td>\n",
       "      <td>0.0</td>\n",
       "      <td>2.0</td>\n",
       "      <td>3.0</td>\n",
       "      <td>67.0</td>\n",
       "    </tr>\n",
       "    <tr>\n",
       "      <th>28</th>\n",
       "      <td>110044.0</td>\n",
       "      <td>70.0</td>\n",
       "      <td>20.8</td>\n",
       "      <td>2.0</td>\n",
       "      <td>41.0</td>\n",
       "      <td>46.5</td>\n",
       "      <td>38.0</td>\n",
       "      <td>2.19</td>\n",
       "      <td>32.0</td>\n",
       "      <td>70.0</td>\n",
       "      <td>52.0</td>\n",
       "      <td>46.0</td>\n",
       "      <td>1.120</td>\n",
       "      <td>4.899</td>\n",
       "      <td>59.941</td>\n",
       "      <td>2.877</td>\n",
       "      <td>18.943</td>\n",
       "      <td>53.906</td>\n",
       "      <td>0.3276</td>\n",
       "      <td>0.2711</td>\n",
       "      <td>0.4651</td>\n",
       "      <td>0.7816</td>\n",
       "      <td>0.3373</td>\n",
       "      <td>0.3494</td>\n",
       "      <td>0.42</td>\n",
       "      <td>1.0</td>\n",
       "      <td>1.0</td>\n",
       "      <td>4.0</td>\n",
       "      <td>3.0</td>\n",
       "      <td>54.0</td>\n",
       "    </tr>\n",
       "    <tr>\n",
       "      <th>13</th>\n",
       "      <td>110029.0</td>\n",
       "      <td>66.0</td>\n",
       "      <td>38.2</td>\n",
       "      <td>4.0</td>\n",
       "      <td>30.4</td>\n",
       "      <td>60.8</td>\n",
       "      <td>57.0</td>\n",
       "      <td>2.36</td>\n",
       "      <td>42.0</td>\n",
       "      <td>99.0</td>\n",
       "      <td>154.5</td>\n",
       "      <td>14.0</td>\n",
       "      <td>1.572</td>\n",
       "      <td>7.365</td>\n",
       "      <td>43.121</td>\n",
       "      <td>2.712</td>\n",
       "      <td>19.668</td>\n",
       "      <td>56.773</td>\n",
       "      <td>0.6379</td>\n",
       "      <td>0.5181</td>\n",
       "      <td>0.9884</td>\n",
       "      <td>0.0345</td>\n",
       "      <td>0.5060</td>\n",
       "      <td>0.3976</td>\n",
       "      <td>0.51</td>\n",
       "      <td>0.0</td>\n",
       "      <td>0.0</td>\n",
       "      <td>2.0</td>\n",
       "      <td>3.0</td>\n",
       "      <td>81.0</td>\n",
       "    </tr>\n",
       "    <tr>\n",
       "      <th>53</th>\n",
       "      <td>110069.0</td>\n",
       "      <td>71.0</td>\n",
       "      <td>20.4</td>\n",
       "      <td>2.0</td>\n",
       "      <td>39.4</td>\n",
       "      <td>44.5</td>\n",
       "      <td>20.0</td>\n",
       "      <td>1.36</td>\n",
       "      <td>56.0</td>\n",
       "      <td>76.0</td>\n",
       "      <td>30.0</td>\n",
       "      <td>37.0</td>\n",
       "      <td>1.290</td>\n",
       "      <td>4.874</td>\n",
       "      <td>62.505</td>\n",
       "      <td>1.938</td>\n",
       "      <td>13.212</td>\n",
       "      <td>61.237</td>\n",
       "      <td>0.9023</td>\n",
       "      <td>0.3434</td>\n",
       "      <td>0.0756</td>\n",
       "      <td>0.5000</td>\n",
       "      <td>0.0843</td>\n",
       "      <td>0.0723</td>\n",
       "      <td>0.33</td>\n",
       "      <td>0.0</td>\n",
       "      <td>0.0</td>\n",
       "      <td>1.0</td>\n",
       "      <td>3.0</td>\n",
       "      <td>56.0</td>\n",
       "    </tr>\n",
       "    <tr>\n",
       "      <th>74</th>\n",
       "      <td>110090.0</td>\n",
       "      <td>75.0</td>\n",
       "      <td>29.7</td>\n",
       "      <td>3.0</td>\n",
       "      <td>37.7</td>\n",
       "      <td>53.5</td>\n",
       "      <td>41.0</td>\n",
       "      <td>2.64</td>\n",
       "      <td>25.0</td>\n",
       "      <td>66.0</td>\n",
       "      <td>63.5</td>\n",
       "      <td>36.0</td>\n",
       "      <td>1.576</td>\n",
       "      <td>7.621</td>\n",
       "      <td>62.370</td>\n",
       "      <td>2.182</td>\n",
       "      <td>18.650</td>\n",
       "      <td>64.086</td>\n",
       "      <td>0.1149</td>\n",
       "      <td>0.2289</td>\n",
       "      <td>0.6163</td>\n",
       "      <td>0.4598</td>\n",
       "      <td>0.3494</td>\n",
       "      <td>0.5060</td>\n",
       "      <td>0.38</td>\n",
       "      <td>0.0</td>\n",
       "      <td>0.0</td>\n",
       "      <td>4.0</td>\n",
       "      <td>3.0</td>\n",
       "      <td>67.0</td>\n",
       "    </tr>\n",
       "    <tr>\n",
       "      <th>3</th>\n",
       "      <td>110019.0</td>\n",
       "      <td>65.0</td>\n",
       "      <td>30.5</td>\n",
       "      <td>4.0</td>\n",
       "      <td>31.5</td>\n",
       "      <td>33.1</td>\n",
       "      <td>138.0</td>\n",
       "      <td>5.60</td>\n",
       "      <td>30.0</td>\n",
       "      <td>168.0</td>\n",
       "      <td>126.0</td>\n",
       "      <td>53.0</td>\n",
       "      <td>1.247</td>\n",
       "      <td>3.976</td>\n",
       "      <td>36.447</td>\n",
       "      <td>1.742</td>\n",
       "      <td>11.371</td>\n",
       "      <td>58.452</td>\n",
       "      <td>0.2069</td>\n",
       "      <td>0.6867</td>\n",
       "      <td>0.9651</td>\n",
       "      <td>0.8908</td>\n",
       "      <td>0.7349</td>\n",
       "      <td>0.8554</td>\n",
       "      <td>0.72</td>\n",
       "      <td>0.0</td>\n",
       "      <td>0.0</td>\n",
       "      <td>1.0</td>\n",
       "      <td>3.0</td>\n",
       "      <td>61.0</td>\n",
       "    </tr>\n",
       "    <tr>\n",
       "      <th>70</th>\n",
       "      <td>110086.0</td>\n",
       "      <td>72.0</td>\n",
       "      <td>29.8</td>\n",
       "      <td>3.0</td>\n",
       "      <td>39.0</td>\n",
       "      <td>47.0</td>\n",
       "      <td>49.0</td>\n",
       "      <td>2.11</td>\n",
       "      <td>44.0</td>\n",
       "      <td>93.0</td>\n",
       "      <td>56.0</td>\n",
       "      <td>37.0</td>\n",
       "      <td>0.809</td>\n",
       "      <td>2.558</td>\n",
       "      <td>53.211</td>\n",
       "      <td>1.864</td>\n",
       "      <td>11.358</td>\n",
       "      <td>63.590</td>\n",
       "      <td>0.7069</td>\n",
       "      <td>0.4578</td>\n",
       "      <td>0.5349</td>\n",
       "      <td>0.5000</td>\n",
       "      <td>0.4458</td>\n",
       "      <td>0.3373</td>\n",
       "      <td>0.50</td>\n",
       "      <td>0.0</td>\n",
       "      <td>0.0</td>\n",
       "      <td>0.0</td>\n",
       "      <td>2.0</td>\n",
       "      <td>62.0</td>\n",
       "    </tr>\n",
       "    <tr>\n",
       "      <th>79</th>\n",
       "      <td>110095.0</td>\n",
       "      <td>81.0</td>\n",
       "      <td>26.4</td>\n",
       "      <td>3.0</td>\n",
       "      <td>41.5</td>\n",
       "      <td>52.5</td>\n",
       "      <td>65.0</td>\n",
       "      <td>2.51</td>\n",
       "      <td>43.0</td>\n",
       "      <td>108.0</td>\n",
       "      <td>0.0</td>\n",
       "      <td>43.0</td>\n",
       "      <td>0.756</td>\n",
       "      <td>3.650</td>\n",
       "      <td>68.093</td>\n",
       "      <td>2.130</td>\n",
       "      <td>12.516</td>\n",
       "      <td>69.450</td>\n",
       "      <td>0.6782</td>\n",
       "      <td>0.5422</td>\n",
       "      <td>0.0000</td>\n",
       "      <td>0.7299</td>\n",
       "      <td>0.5181</td>\n",
       "      <td>0.4578</td>\n",
       "      <td>0.00</td>\n",
       "      <td>1.0</td>\n",
       "      <td>0.0</td>\n",
       "      <td>3.0</td>\n",
       "      <td>2.0</td>\n",
       "      <td>66.0</td>\n",
       "    </tr>\n",
       "    <tr>\n",
       "      <th>15</th>\n",
       "      <td>110031.0</td>\n",
       "      <td>77.0</td>\n",
       "      <td>23.8</td>\n",
       "      <td>2.0</td>\n",
       "      <td>38.8</td>\n",
       "      <td>47.5</td>\n",
       "      <td>257.0</td>\n",
       "      <td>6.98</td>\n",
       "      <td>43.0</td>\n",
       "      <td>300.0</td>\n",
       "      <td>54.5</td>\n",
       "      <td>27.0</td>\n",
       "      <td>0.923</td>\n",
       "      <td>2.452</td>\n",
       "      <td>57.478</td>\n",
       "      <td>2.832</td>\n",
       "      <td>20.399</td>\n",
       "      <td>42.765</td>\n",
       "      <td>0.6782</td>\n",
       "      <td>0.9518</td>\n",
       "      <td>0.4884</td>\n",
       "      <td>0.2126</td>\n",
       "      <td>0.9759</td>\n",
       "      <td>0.9398</td>\n",
       "      <td>0.71</td>\n",
       "      <td>0.0</td>\n",
       "      <td>1.0</td>\n",
       "      <td>3.0</td>\n",
       "      <td>3.0</td>\n",
       "      <td>0.0</td>\n",
       "    </tr>\n",
       "    <tr>\n",
       "      <th>55</th>\n",
       "      <td>110071.0</td>\n",
       "      <td>82.0</td>\n",
       "      <td>27.8</td>\n",
       "      <td>3.0</td>\n",
       "      <td>36.0</td>\n",
       "      <td>45.5</td>\n",
       "      <td>103.0</td>\n",
       "      <td>2.75</td>\n",
       "      <td>59.0</td>\n",
       "      <td>162.0</td>\n",
       "      <td>105.0</td>\n",
       "      <td>37.0</td>\n",
       "      <td>0.808</td>\n",
       "      <td>2.803</td>\n",
       "      <td>88.901</td>\n",
       "      <td>1.742</td>\n",
       "      <td>4.681</td>\n",
       "      <td>103.931</td>\n",
       "      <td>0.9310</td>\n",
       "      <td>0.6506</td>\n",
       "      <td>0.9186</td>\n",
       "      <td>0.5000</td>\n",
       "      <td>0.6265</td>\n",
       "      <td>0.5422</td>\n",
       "      <td>0.69</td>\n",
       "      <td>0.0</td>\n",
       "      <td>2.0</td>\n",
       "      <td>0.0</td>\n",
       "      <td>2.0</td>\n",
       "      <td>67.0</td>\n",
       "    </tr>\n",
       "    <tr>\n",
       "      <th>90</th>\n",
       "      <td>110106.0</td>\n",
       "      <td>72.0</td>\n",
       "      <td>33.2</td>\n",
       "      <td>4.0</td>\n",
       "      <td>36.5</td>\n",
       "      <td>54.0</td>\n",
       "      <td>33.0</td>\n",
       "      <td>1.92</td>\n",
       "      <td>36.0</td>\n",
       "      <td>69.0</td>\n",
       "      <td>62.0</td>\n",
       "      <td>46.0</td>\n",
       "      <td>0.957</td>\n",
       "      <td>5.679</td>\n",
       "      <td>35.598</td>\n",
       "      <td>1.564</td>\n",
       "      <td>11.711</td>\n",
       "      <td>71.076</td>\n",
       "      <td>0.4598</td>\n",
       "      <td>0.2530</td>\n",
       "      <td>0.6047</td>\n",
       "      <td>0.7816</td>\n",
       "      <td>0.2651</td>\n",
       "      <td>0.1928</td>\n",
       "      <td>0.43</td>\n",
       "      <td>0.0</td>\n",
       "      <td>0.0</td>\n",
       "      <td>5.0</td>\n",
       "      <td>3.0</td>\n",
       "      <td>70.0</td>\n",
       "    </tr>\n",
       "  </tbody>\n",
       "</table>\n",
       "</div>"
      ],
      "text/plain": [
       "    volgcode  age_at_V1   BMI  BMI4category  V1_upperleg_length  \\\n",
       "22  110038.0       80.0  21.4           2.0                39.4   \n",
       "62  110078.0       78.0  24.9           2.0                37.1   \n",
       "99  110115.0       77.0  34.8           4.0                38.0   \n",
       "72  110088.0       75.0  20.3           2.0                39.7   \n",
       "76  110092.0       72.0  39.0           4.0                42.0   \n",
       "4   110020.0       69.0  24.1           2.0                37.5   \n",
       "26  110042.0       72.0  31.2           4.0                38.0   \n",
       "44  110060.0       71.0  24.1           2.0                44.6   \n",
       "84  110100.0       70.0  23.7           2.0                39.5   \n",
       "6   110022.0       83.0  25.7           3.0                37.2   \n",
       "28  110044.0       70.0  20.8           2.0                41.0   \n",
       "13  110029.0       66.0  38.2           4.0                30.4   \n",
       "53  110069.0       71.0  20.4           2.0                39.4   \n",
       "74  110090.0       75.0  29.7           3.0                37.7   \n",
       "3   110019.0       65.0  30.5           4.0                31.5   \n",
       "70  110086.0       72.0  29.8           3.0                39.0   \n",
       "79  110095.0       81.0  26.4           3.0                41.5   \n",
       "15  110031.0       77.0  23.8           2.0                38.8   \n",
       "55  110071.0       82.0  27.8           3.0                36.0   \n",
       "90  110106.0       72.0  33.2           4.0                36.5   \n",
       "\n",
       "    V1_upperleg_cir  TMTBminA  TMTBdeelA  V2_TMT_partA  V2_TMT_partB  \\\n",
       "22             45.0     124.0       3.95          42.0         166.0   \n",
       "62             46.7      69.0       2.05          66.0         135.0   \n",
       "99             62.0      82.0       3.28          36.0         118.0   \n",
       "72             46.2      25.0       2.56          16.0          41.0   \n",
       "76             62.5      22.0       1.69          32.0          54.0   \n",
       "4              42.2     124.0       3.34          53.0         177.0   \n",
       "26             61.8     232.0      11.09          23.0         255.0   \n",
       "44             50.2      45.0       2.41          32.0          77.0   \n",
       "84             45.3      31.0       1.76          41.0          72.0   \n",
       "6              48.4      45.0       2.02          44.0          89.0   \n",
       "28             46.5      38.0       2.19          32.0          70.0   \n",
       "13             60.8      57.0       2.36          42.0          99.0   \n",
       "53             44.5      20.0       1.36          56.0          76.0   \n",
       "74             53.5      41.0       2.64          25.0          66.0   \n",
       "3              33.1     138.0       5.60          30.0         168.0   \n",
       "70             47.0      49.0       2.11          44.0          93.0   \n",
       "79             52.5      65.0       2.51          43.0         108.0   \n",
       "15             47.5     257.0       6.98          43.0         300.0   \n",
       "55             45.5     103.0       2.75          59.0         162.0   \n",
       "90             54.0      33.0       1.92          36.0          69.0   \n",
       "\n",
       "    V2_SCWT_score  V2_LFT_score  RFMTmean  RFCSAmean  RFEImean  VLMTmean  \\\n",
       "22           49.5          40.0     0.573      3.051    47.864     1.873   \n",
       "62           71.5          23.0     1.334      4.343    63.293     1.922   \n",
       "99           64.0          39.0     0.441      2.140    71.610     1.534   \n",
       "72           40.0          53.0     1.119      4.262    60.171     1.590   \n",
       "76           57.5          33.0     1.669      9.368    57.913     2.112   \n",
       "4            95.0          39.0     0.953      1.629    56.433     2.176   \n",
       "26           49.5          37.0     1.294      3.714    52.882     2.556   \n",
       "44           49.5          32.0     1.002      5.671    61.812     1.816   \n",
       "84           30.0          39.0     1.051      3.698    61.429     2.158   \n",
       "6           118.0          35.0     0.820      3.039    68.756     2.071   \n",
       "28           52.0          46.0     1.120      4.899    59.941     2.877   \n",
       "13          154.5          14.0     1.572      7.365    43.121     2.712   \n",
       "53           30.0          37.0     1.290      4.874    62.505     1.938   \n",
       "74           63.5          36.0     1.576      7.621    62.370     2.182   \n",
       "3           126.0          53.0     1.247      3.976    36.447     1.742   \n",
       "70           56.0          37.0     0.809      2.558    53.211     1.864   \n",
       "79            0.0          43.0     0.756      3.650    68.093     2.130   \n",
       "15           54.5          27.0     0.923      2.452    57.478     2.832   \n",
       "55          105.0          37.0     0.808      2.803    88.901     1.742   \n",
       "90           62.0          46.0     0.957      5.679    35.598     1.564   \n",
       "\n",
       "    VLCSAmean  VLEImean  RV2_TMT_A  RV2_TMT_B  RV2_SCWT  RV2_LFT_  RTMTBmin  \\\n",
       "22     13.124    57.888     0.6379     0.6747    0.4186    0.6264    0.6928   \n",
       "62     15.490    62.743     0.9770     0.6265    0.7558    0.1494    0.5542   \n",
       "99      7.790    64.631     0.4598     0.5783    0.6337    0.5747    0.5783   \n",
       "72     14.338    60.117     0.0115     0.0181    0.3140    0.8908    0.1205   \n",
       "76     24.229    55.349     0.3276     0.0904    0.5581    0.3621    0.0964   \n",
       "4      14.070    50.510     0.8161     0.7289    0.8721    0.5747    0.6928   \n",
       "26     20.267    42.923     0.0805     0.8675    0.4186    0.5000    0.8976   \n",
       "44     13.377    65.185     0.3276     0.3614    0.4186    0.3448    0.3916   \n",
       "84     11.295    69.172     0.6034     0.2892    0.0756    0.5747    0.2169   \n",
       "6      16.011    52.035     0.7069     0.4337    0.9302    0.4253    0.3916   \n",
       "28     18.943    53.906     0.3276     0.2711    0.4651    0.7816    0.3373   \n",
       "13     19.668    56.773     0.6379     0.5181    0.9884    0.0345    0.5060   \n",
       "53     13.212    61.237     0.9023     0.3434    0.0756    0.5000    0.0843   \n",
       "74     18.650    64.086     0.1149     0.2289    0.6163    0.4598    0.3494   \n",
       "3      11.371    58.452     0.2069     0.6867    0.9651    0.8908    0.7349   \n",
       "70     11.358    63.590     0.7069     0.4578    0.5349    0.5000    0.4458   \n",
       "79     12.516    69.450     0.6782     0.5422    0.0000    0.7299    0.5181   \n",
       "15     20.399    42.765     0.6782     0.9518    0.4884    0.2126    0.9759   \n",
       "55      4.681   103.931     0.9310     0.6506    0.9186    0.5000    0.6265   \n",
       "90     11.711    71.076     0.4598     0.2530    0.6047    0.7816    0.2651   \n",
       "\n",
       "    RTMTBdee  MeanCognitive  Gender   Leefsituatie   Educatie   Roken   \\\n",
       "22    0.6627           0.62      0.0            1.0        3.0     3.0   \n",
       "62    0.2771           0.56      1.0            1.0        5.0     3.0   \n",
       "99    0.6024           0.57      0.0            1.0        0.0     2.0   \n",
       "72    0.4819           0.31      0.0            0.0        3.0     3.0   \n",
       "76    0.1325           0.26      0.0            0.0        3.0     3.0   \n",
       "4     0.6145           0.72      0.0            0.0        3.0     3.0   \n",
       "26    0.9880           0.63      0.0            1.0        4.0     2.0   \n",
       "44    0.4337           0.38      0.0            1.0        4.0     2.0   \n",
       "84    0.1446           0.32      0.0            1.0        3.0     2.0   \n",
       "6     0.2530           0.52      1.0            0.0        2.0     3.0   \n",
       "28    0.3494           0.42      1.0            1.0        4.0     3.0   \n",
       "13    0.3976           0.51      0.0            0.0        2.0     3.0   \n",
       "53    0.0723           0.33      0.0            0.0        1.0     3.0   \n",
       "74    0.5060           0.38      0.0            0.0        4.0     3.0   \n",
       "3     0.8554           0.72      0.0            0.0        1.0     3.0   \n",
       "70    0.3373           0.50      0.0            0.0        0.0     2.0   \n",
       "79    0.4578           0.00      1.0            0.0        3.0     2.0   \n",
       "15    0.9398           0.71      0.0            1.0        3.0     3.0   \n",
       "55    0.5422           0.69      0.0            2.0        0.0     2.0   \n",
       "90    0.1928           0.43      0.0            0.0        5.0     3.0   \n",
       "\n",
       "    Metabolic age   \n",
       "22            65.0  \n",
       "62            63.0  \n",
       "99            74.0  \n",
       "72            60.0  \n",
       "76            87.0  \n",
       "4             54.0  \n",
       "26            70.0  \n",
       "44            56.0  \n",
       "84            63.0  \n",
       "6             67.0  \n",
       "28            54.0  \n",
       "13            81.0  \n",
       "53            56.0  \n",
       "74            67.0  \n",
       "3             61.0  \n",
       "70            62.0  \n",
       "79            66.0  \n",
       "15             0.0  \n",
       "55            67.0  \n",
       "90            70.0  "
      ]
     },
     "execution_count": 423,
     "metadata": {},
     "output_type": "execute_result"
    }
   ],
   "source": [
    "df = pd.read_csv(\"dataCSV_v2.csv\", low_memory=False, delimiter=';')\n",
    "pd.options.display.max_columns = None\n",
    "df = df.drop(columns=['Self identification ', 'Spierpercentage ', 'Fat percentage ', 'Botmassa'])\n",
    "df = df.dropna(subset=['RFMTmean', 'RFCSAmean', 'RFEImean', 'VLMTmean', 'VLCSAmean', 'VLEImean'])\n",
    "df = df[df.isnull().sum(axis=1) < 4]\n",
    "df = df.fillna(0)\n",
    "df = df.astype(str)\n",
    "df = df.apply(lambda x: x.str.replace('#LEEG!','0'))\n",
    "df = df.apply(lambda x: x.str.replace('-99','0'))\n",
    "df = df.apply(lambda x: x.str.replace('-96','0'))\n",
    "df = df.apply(lambda x: x.str.replace(',','.'))\n",
    "df = df.astype(float)\n",
    "df = df[df.RFMTmean != 0]\n",
    "df = df[df.RFCSAmean != 0]\n",
    "df = df[df.RFEImean != 0]\n",
    "df = df[df.VLMTmean != 0]\n",
    "df = df[df.VLCSAmean != 0]\n",
    "df = df[df.VLEImean != 0]\n",
    "df.sample(20)"
   ]
  },
  {
   "cell_type": "code",
   "execution_count": 424,
   "id": "9e375913",
   "metadata": {
    "scrolled": true
   },
   "outputs": [],
   "source": [
    "X = pd.DataFrame(df, columns = ['volgcode', 'Gender ', 'Leefsituatie ', 'Educatie ', 'Roken ', 'Metabolic age ', 'age_at_V1', 'BMI','BMI4category', 'V1_upperleg_length', 'V1_upperleg_cir', 'V2_TMT_partA', 'V2_TMT_partB', 'V2_SCWT_score', 'V2_LFT_score'])\n",
    "y = pd.DataFrame(df, columns=['RFMTmean'])\n",
    "y2 = pd.DataFrame(df, columns=['RFCSAmean'])\n",
    "y3 = pd.DataFrame(df, columns=['RFEImean'])\n",
    "y4 = pd.DataFrame(df, columns=['VLMTmean'])\n",
    "y5 = pd.DataFrame(df, columns=['VLCSAmean'])\n",
    "y6 = pd.DataFrame(df, columns=['VLEImean'])"
   ]
  },
  {
   "cell_type": "markdown",
   "id": "d628ba81",
   "metadata": {},
   "source": [
    "# RFMTmean"
   ]
  },
  {
   "cell_type": "code",
   "execution_count": 425,
   "id": "5b8feb86",
   "metadata": {
    "scrolled": true
   },
   "outputs": [],
   "source": [
    "# WITH a random_state parameter:\n",
    "#  (Same split every time! Note you can change the random state to any integer.)\n",
    "X_train, X_test, y_train, y_test = train_test_split(X, y, random_state=1)\n",
    "# Create linear regression model\n",
    "lin_reg_mod = LinearRegression()\n",
    "# Fit linear regression\n",
    "lin_reg_mod.fit(X_train, y_train)\n",
    "# Make prediction on the testing data\n",
    "pred = lin_reg_mod.predict(X_test)"
   ]
  },
  {
   "cell_type": "code",
   "execution_count": 426,
   "id": "ec5dca2f",
   "metadata": {
    "scrolled": true
   },
   "outputs": [
    {
     "name": "stdout",
     "output_type": "stream",
     "text": [
      "0.12537028920034532\n"
     ]
    }
   ],
   "source": [
    "# Calculate the R^2 or coefficent of determination between the actual & predicted\n",
    "test_set_r2 = r2_score(y_test, pred)\n",
    "# The closer towards 1, the better the fit\n",
    "print(test_set_r2)"
   ]
  },
  {
   "cell_type": "code",
   "execution_count": 427,
   "id": "9c582590",
   "metadata": {
    "scrolled": true
   },
   "outputs": [
    {
     "name": "stdout",
     "output_type": "stream",
     "text": [
      "0.28595560187725305\n"
     ]
    }
   ],
   "source": [
    "# Calculate the Root Mean Square Error between the actual & predicted\n",
    "test_set_rmse = (np.sqrt(mean_squared_error(y_test, pred)))\n",
    "# Note that for rmse, the lower that value is, the better the fit\n",
    "print(test_set_rmse)"
   ]
  },
  {
   "cell_type": "code",
   "execution_count": 428,
   "id": "130da67d",
   "metadata": {
    "scrolled": true
   },
   "outputs": [
    {
     "name": "stdout",
     "output_type": "stream",
     "text": [
      "     RFMTmean  Predicted  Residuals\n",
      "46      1.316   0.970302   0.345698\n",
      "53      1.290   1.010522   0.279478\n",
      "32      0.711   1.169419  -0.458419\n",
      "48      1.517   1.227547   0.289453\n",
      "43      1.156   1.025801   0.130199\n",
      "98      1.133   1.149906  -0.016906\n",
      "71      1.034   1.222630  -0.188630\n",
      "82      1.440   1.074370   0.365630\n",
      "103     1.082   1.080928   0.001072\n",
      "69      1.083   1.329044  -0.246044\n",
      "80      1.619   1.410926   0.208074\n",
      "63      1.395   1.019073   0.375927\n",
      "57      0.652   0.960705  -0.308705\n",
      "79      0.756   1.122561  -0.366561\n",
      "76      1.669   1.332457   0.336543\n",
      "13      1.572   1.353830   0.218170\n",
      "2       0.744   1.075163  -0.331163\n",
      "42      1.094   0.892530   0.201470\n",
      "81      1.055   1.285618  -0.230618\n",
      "54      1.285   1.228335   0.056665\n",
      "23      0.976   1.062984  -0.086984\n",
      "94      1.659   1.138421   0.520579\n"
     ]
    },
    {
     "name": "stderr",
     "output_type": "stream",
     "text": [
      "<ipython-input-428-d76d1299e5ac>:2: SettingWithCopyWarning: \n",
      "A value is trying to be set on a copy of a slice from a DataFrame.\n",
      "Try using .loc[row_indexer,col_indexer] = value instead\n",
      "\n",
      "See the caveats in the documentation: https://pandas.pydata.org/pandas-docs/stable/user_guide/indexing.html#returning-a-view-versus-a-copy\n",
      "  df_results['Predicted'] = pred.ravel()\n",
      "<ipython-input-428-d76d1299e5ac>:3: SettingWithCopyWarning: \n",
      "A value is trying to be set on a copy of a slice from a DataFrame.\n",
      "Try using .loc[row_indexer,col_indexer] = value instead\n",
      "\n",
      "See the caveats in the documentation: https://pandas.pydata.org/pandas-docs/stable/user_guide/indexing.html#returning-a-view-versus-a-copy\n",
      "  df_results['Residuals'] = abs(df_results['RFMTmean']) - abs(df_results['Predicted'])\n"
     ]
    }
   ],
   "source": [
    "df_results = y_test\n",
    "df_results['Predicted'] = pred.ravel()\n",
    "df_results['Residuals'] = abs(df_results['RFMTmean']) - abs(df_results['Predicted'])\n",
    "print(df_results)"
   ]
  },
  {
   "cell_type": "code",
   "execution_count": 429,
   "id": "6bd634be",
   "metadata": {
    "scrolled": false
   },
   "outputs": [
    {
     "data": {
      "text/plain": [
       "Text(0.5, 1.0, 'Actual vs. Predicted')"
      ]
     },
     "execution_count": 429,
     "metadata": {},
     "output_type": "execute_result"
    },
    {
     "data": {
      "image/png": "[encoded data removed]",
      "text/plain": [
       "<Figure size 576x576 with 1 Axes>"
      ]
     },
     "metadata": {
      "needs_background": "light"
     },
     "output_type": "display_data"
    }
   ],
   "source": [
    "# Plotting the actual vs predicted values\n",
    "sns.lmplot(x='RFMTmean', y='Predicted', data=df_results, height=8).set(ylim=(0.7, 1.8), xlim=(0.7, 1.8))\n",
    "\n",
    "plt.title('Actual vs. Predicted')"
   ]
  },
  {
   "cell_type": "markdown",
   "id": "6795aefc",
   "metadata": {},
   "source": [
    "# RFCSAmean"
   ]
  },
  {
   "cell_type": "code",
   "execution_count": 430,
   "id": "bf832789",
   "metadata": {
    "scrolled": true
   },
   "outputs": [],
   "source": [
    "# WITH a random_state parameter:\n",
    "#  (Same split every time! Note you can change the random state to any integer.)\n",
    "X_train, X_test, y_train, y_test = train_test_split(X, y2, random_state=1)\n",
    "# Create linear regression model\n",
    "lin_reg_mod = LinearRegression()\n",
    "# Fit linear regression\n",
    "lin_reg_mod.fit(X_train, y_train)\n",
    "# Make prediction on the testing data\n",
    "pred = lin_reg_mod.predict(X_test)"
   ]
  },
  {
   "cell_type": "code",
   "execution_count": 431,
   "id": "ed886f17",
   "metadata": {
    "scrolled": true
   },
   "outputs": [
    {
     "name": "stdout",
     "output_type": "stream",
     "text": [
      "0.3550839115228872\n"
     ]
    }
   ],
   "source": [
    "# Calculate the R^2 or coefficent of determination between the actual & predicted\n",
    "test_set_r2 = r2_score(y_test, pred)\n",
    "# The closer towards 1, the better the fit\n",
    "print(test_set_r2)"
   ]
  },
  {
   "cell_type": "code",
   "execution_count": 432,
   "id": "9c3bd64c",
   "metadata": {
    "scrolled": true
   },
   "outputs": [
    {
     "name": "stdout",
     "output_type": "stream",
     "text": [
      "1.6195339209886532\n"
     ]
    }
   ],
   "source": [
    "# Calculate the Root Mean Square Error between the actual & predicted\n",
    "test_set_rmse = (np.sqrt(mean_squared_error(y_test, pred)))\n",
    "# Note that for rmse, the lower that value is, the better the fit\n",
    "print(test_set_rmse)"
   ]
  },
  {
   "cell_type": "code",
   "execution_count": 433,
   "id": "2800dd74",
   "metadata": {
    "scrolled": true
   },
   "outputs": [
    {
     "name": "stdout",
     "output_type": "stream",
     "text": [
      "     RFCSAmean  Predicted  Residuals\n",
      "46       4.522   4.024269   0.497731\n",
      "53       4.874   2.612395   2.261605\n",
      "32       1.300   4.962569  -3.662569\n",
      "48       6.920   5.759063   1.160937\n",
      "43       4.404   3.777808   0.626192\n",
      "98       3.848   4.034798  -0.186798\n",
      "71       2.391   4.529034  -2.138034\n",
      "82       5.429   4.331479   1.097521\n",
      "103      3.381   3.631025  -0.250025\n",
      "69       3.682   4.963186  -1.281186\n",
      "80       5.289   4.489295   0.799705\n",
      "63       4.360   4.428049  -0.068049\n",
      "57       2.182   3.388682  -1.206682\n",
      "79       3.650   4.083582  -0.433582\n",
      "76       9.368   6.218426   3.149574\n",
      "13       7.365   5.220060   2.144940\n",
      "2        1.993   1.999924  -0.006924\n",
      "42       3.652   3.522283   0.129717\n",
      "81       2.618   4.533651  -1.915651\n",
      "54       6.204   6.521874  -0.317874\n",
      "23       1.543   3.853277  -2.310277\n",
      "94       6.783   4.849542   1.933458\n"
     ]
    },
    {
     "name": "stderr",
     "output_type": "stream",
     "text": [
      "<ipython-input-433-878abcb5ebb8>:2: SettingWithCopyWarning: \n",
      "A value is trying to be set on a copy of a slice from a DataFrame.\n",
      "Try using .loc[row_indexer,col_indexer] = value instead\n",
      "\n",
      "See the caveats in the documentation: https://pandas.pydata.org/pandas-docs/stable/user_guide/indexing.html#returning-a-view-versus-a-copy\n",
      "  df_results['Predicted'] = pred.ravel()\n",
      "<ipython-input-433-878abcb5ebb8>:3: SettingWithCopyWarning: \n",
      "A value is trying to be set on a copy of a slice from a DataFrame.\n",
      "Try using .loc[row_indexer,col_indexer] = value instead\n",
      "\n",
      "See the caveats in the documentation: https://pandas.pydata.org/pandas-docs/stable/user_guide/indexing.html#returning-a-view-versus-a-copy\n",
      "  df_results['Residuals'] = abs(df_results['RFCSAmean']) - abs(df_results['Predicted'])\n"
     ]
    }
   ],
   "source": [
    "df_results = y_test\n",
    "df_results['Predicted'] = pred.ravel()\n",
    "df_results['Residuals'] = abs(df_results['RFCSAmean']) - abs(df_results['Predicted'])\n",
    "print(df_results)"
   ]
  },
  {
   "cell_type": "code",
   "execution_count": 434,
   "id": "ea103fc0",
   "metadata": {
    "scrolled": false
   },
   "outputs": [
    {
     "data": {
      "text/plain": [
       "Text(0.5, 1.0, 'Actual vs. Predicted')"
      ]
     },
     "execution_count": 434,
     "metadata": {},
     "output_type": "execute_result"
    },
    {
     "data": {
      "image/png": "[encoded data removed]",
      "text/plain": [
       "<Figure size 576x576 with 1 Axes>"
      ]
     },
     "metadata": {
      "needs_background": "light"
     },
     "output_type": "display_data"
    }
   ],
   "source": [
    "# Plotting the actual vs predicted values\n",
    "sns.lmplot(x='RFCSAmean', y='Predicted', data=df_results, height=8).set(ylim=(1, 6), xlim=(1, 6))\n",
    "plt.title('Actual vs. Predicted')"
   ]
  },
  {
   "cell_type": "markdown",
   "id": "bd683170",
   "metadata": {},
   "source": [
    "# RFEImean"
   ]
  },
  {
   "cell_type": "code",
   "execution_count": 435,
   "id": "b2c751d9",
   "metadata": {
    "scrolled": true
   },
   "outputs": [],
   "source": [
    "# WITH a random_state parameter:\n",
    "#  (Same split every time! Note you can change the random state to any integer.)\n",
    "X_train, X_test, y_train, y_test = train_test_split(X, y3, random_state=1)\n",
    "# Create linear regression model\n",
    "lin_reg_mod = LinearRegression()\n",
    "# Fit linear regression\n",
    "lin_reg_mod.fit(X_train, y_train)\n",
    "# Make prediction on the testing data\n",
    "pred = lin_reg_mod.predict(X_test)"
   ]
  },
  {
   "cell_type": "code",
   "execution_count": 436,
   "id": "877e6779",
   "metadata": {
    "scrolled": true
   },
   "outputs": [
    {
     "name": "stdout",
     "output_type": "stream",
     "text": [
      "0.17764575586390507\n"
     ]
    }
   ],
   "source": [
    "# Calculate the R^2 or coefficent of determination between the actual & predicted\n",
    "test_set_r2 = r2_score(y_test, pred)\n",
    "# The closer towards 1, the better the fit\n",
    "print(test_set_r2)"
   ]
  },
  {
   "cell_type": "code",
   "execution_count": 437,
   "id": "f56c6b9d",
   "metadata": {
    "scrolled": true
   },
   "outputs": [
    {
     "name": "stdout",
     "output_type": "stream",
     "text": [
      "10.27347056603661\n"
     ]
    }
   ],
   "source": [
    "# Calculate the Root Mean Square Error between the actual & predicted\n",
    "test_set_rmse = (np.sqrt(mean_squared_error(y_test, pred)))\n",
    "# Note that for rmse, the lower that value is, the better the fit\n",
    "print(test_set_rmse)"
   ]
  },
  {
   "cell_type": "code",
   "execution_count": 438,
   "id": "e7a3c015",
   "metadata": {
    "scrolled": true
   },
   "outputs": [
    {
     "name": "stdout",
     "output_type": "stream",
     "text": [
      "     RFEImean  Predicted  Residuals\n",
      "46     62.239  63.019544  -0.780544\n",
      "53     62.505  61.064450   1.440550\n",
      "32     76.445  55.133818  21.311182\n",
      "48     56.324  54.728444   1.595556\n",
      "43     71.163  63.595063   7.567937\n",
      "98     54.118  63.449097  -9.331097\n",
      "71     45.056  56.023760 -10.967760\n",
      "82     61.369  65.580594  -4.211594\n",
      "103    54.505  60.414426  -5.909426\n",
      "69     74.372  55.969950  18.402050\n",
      "80     53.167  49.023185   4.143815\n",
      "63     56.594  62.616125  -6.022125\n",
      "57     75.985  72.720914   3.264086\n",
      "79     68.093  68.039867   0.053133\n",
      "76     57.913  57.089518   0.823482\n",
      "13     43.121  43.856521  -0.735521\n",
      "2      48.469  54.042444  -5.573444\n",
      "42     70.081  70.672459  -0.591459\n",
      "81     65.247  64.891144   0.355856\n",
      "54     37.282  55.452500 -18.170500\n",
      "23     78.999  54.065868  24.933132\n",
      "94     50.008  62.576425 -12.568425\n"
     ]
    },
    {
     "name": "stderr",
     "output_type": "stream",
     "text": [
      "<ipython-input-438-467e01ed1105>:2: SettingWithCopyWarning: \n",
      "A value is trying to be set on a copy of a slice from a DataFrame.\n",
      "Try using .loc[row_indexer,col_indexer] = value instead\n",
      "\n",
      "See the caveats in the documentation: https://pandas.pydata.org/pandas-docs/stable/user_guide/indexing.html#returning-a-view-versus-a-copy\n",
      "  df_results['Predicted'] = pred.ravel()\n",
      "<ipython-input-438-467e01ed1105>:3: SettingWithCopyWarning: \n",
      "A value is trying to be set on a copy of a slice from a DataFrame.\n",
      "Try using .loc[row_indexer,col_indexer] = value instead\n",
      "\n",
      "See the caveats in the documentation: https://pandas.pydata.org/pandas-docs/stable/user_guide/indexing.html#returning-a-view-versus-a-copy\n",
      "  df_results['Residuals'] = abs(df_results['RFEImean']) - abs(df_results['Predicted'])\n"
     ]
    }
   ],
   "source": [
    "df_results = y_test\n",
    "df_results['Predicted'] = pred.ravel()\n",
    "df_results['Residuals'] = abs(df_results['RFEImean']) - abs(df_results['Predicted'])\n",
    "print(df_results)"
   ]
  },
  {
   "cell_type": "code",
   "execution_count": 439,
   "id": "7d290f39",
   "metadata": {
    "scrolled": false
   },
   "outputs": [
    {
     "data": {
      "text/plain": [
       "Text(0.5, 1.0, 'Actual vs. Predicted')"
      ]
     },
     "execution_count": 439,
     "metadata": {},
     "output_type": "execute_result"
    },
    {
     "data": {
      "image/png": "[encoded data removed]",
      "text/plain": [
       "<Figure size 576x576 with 1 Axes>"
      ]
     },
     "metadata": {
      "needs_background": "light"
     },
     "output_type": "display_data"
    }
   ],
   "source": [
    "# Plotting the actual vs predicted values\n",
    "sns.lmplot(x='RFEImean', y='Predicted', data=df_results, height=8).set(ylim=(33, 78), xlim=(33, 78))\n",
    "plt.title('Actual vs. Predicted')"
   ]
  },
  {
   "cell_type": "markdown",
   "id": "93f3335f",
   "metadata": {},
   "source": [
    "# VLMTmean"
   ]
  },
  {
   "cell_type": "code",
   "execution_count": 440,
   "id": "4e9bd397",
   "metadata": {
    "scrolled": true
   },
   "outputs": [],
   "source": [
    "# WITH a random_state parameter:\n",
    "#  (Same split every time! Note you can change the random state to any integer.)\n",
    "X_train, X_test, y_train, y_test = train_test_split(X, y4, random_state=1)\n",
    "# Create linear regression model\n",
    "lin_reg_mod = LinearRegression()\n",
    "# Fit linear regression\n",
    "lin_reg_mod.fit(X_train, y_train)\n",
    "# Make prediction on the testing data\n",
    "pred = lin_reg_mod.predict(X_test)"
   ]
  },
  {
   "cell_type": "code",
   "execution_count": 441,
   "id": "0f639832",
   "metadata": {
    "scrolled": true
   },
   "outputs": [
    {
     "name": "stdout",
     "output_type": "stream",
     "text": [
      "-0.5299486906660562\n"
     ]
    }
   ],
   "source": [
    "# Calculate the R^2 or coefficent of determination between the actual & predicted\n",
    "test_set_r2 = r2_score(y_test, pred)\n",
    "# The closer towards 1, the better the fit\n",
    "print(test_set_r2)"
   ]
  },
  {
   "cell_type": "code",
   "execution_count": 442,
   "id": "44f20554",
   "metadata": {
    "scrolled": true
   },
   "outputs": [
    {
     "name": "stdout",
     "output_type": "stream",
     "text": [
      "0.3962305634876004\n"
     ]
    }
   ],
   "source": [
    "# Calculate the Root Mean Square Error between the actual & predicted\n",
    "test_set_rmse = (np.sqrt(mean_squared_error(y_test, pred)))\n",
    "# Note that for rmse, the lower that value is, the better the fit\n",
    "print(test_set_rmse)"
   ]
  },
  {
   "cell_type": "code",
   "execution_count": 443,
   "id": "404b7df7",
   "metadata": {
    "scrolled": true
   },
   "outputs": [
    {
     "name": "stdout",
     "output_type": "stream",
     "text": [
      "     VLMTmean  Predicted  Residuals\n",
      "46      1.571   1.822046  -0.251046\n",
      "53      1.938   1.700478   0.237522\n",
      "32      2.084   2.209683  -0.125683\n",
      "48      1.930   2.056491  -0.126491\n",
      "43      1.576   1.854606  -0.278606\n",
      "98      1.682   1.659433   0.022567\n",
      "71      1.696   1.873053  -0.177053\n",
      "82      2.171   1.971524   0.199476\n",
      "103     1.696   1.471426   0.224574\n",
      "69      1.732   2.106384  -0.374384\n",
      "80      2.263   2.124166   0.138834\n",
      "63      2.667   1.695217   0.971783\n",
      "57      2.240   1.769554   0.470446\n",
      "79      2.130   1.987659   0.142341\n",
      "76      2.112   2.084554   0.027446\n",
      "13      2.712   1.963260   0.748740\n",
      "2       1.798   2.328989  -0.530989\n",
      "42      1.771   1.729527   0.041473\n",
      "81      1.640   2.432365  -0.792365\n",
      "54      1.831   1.996376  -0.165376\n",
      "23      2.365   1.871024   0.493976\n",
      "94      1.904   1.788191   0.115809\n"
     ]
    },
    {
     "name": "stderr",
     "output_type": "stream",
     "text": [
      "<ipython-input-443-b57ad001f371>:2: SettingWithCopyWarning: \n",
      "A value is trying to be set on a copy of a slice from a DataFrame.\n",
      "Try using .loc[row_indexer,col_indexer] = value instead\n",
      "\n",
      "See the caveats in the documentation: https://pandas.pydata.org/pandas-docs/stable/user_guide/indexing.html#returning-a-view-versus-a-copy\n",
      "  df_results['Predicted'] = pred.ravel()\n",
      "<ipython-input-443-b57ad001f371>:3: SettingWithCopyWarning: \n",
      "A value is trying to be set on a copy of a slice from a DataFrame.\n",
      "Try using .loc[row_indexer,col_indexer] = value instead\n",
      "\n",
      "See the caveats in the documentation: https://pandas.pydata.org/pandas-docs/stable/user_guide/indexing.html#returning-a-view-versus-a-copy\n",
      "  df_results['Residuals'] = abs(df_results['VLMTmean']) - abs(df_results['Predicted'])\n"
     ]
    }
   ],
   "source": [
    "df_results = y_test\n",
    "df_results['Predicted'] = pred.ravel()\n",
    "df_results['Residuals'] = abs(df_results['VLMTmean']) - abs(df_results['Predicted'])\n",
    "print(df_results)"
   ]
  },
  {
   "cell_type": "code",
   "execution_count": 444,
   "id": "d3905c01",
   "metadata": {
    "scrolled": false
   },
   "outputs": [
    {
     "data": {
      "text/plain": [
       "Text(0.5, 1.0, 'Actual vs. Predicted')"
      ]
     },
     "execution_count": 444,
     "metadata": {},
     "output_type": "execute_result"
    },
    {
     "data": {
      "image/png": "[encoded data removed]",
      "text/plain": [
       "<Figure size 576x576 with 1 Axes>"
      ]
     },
     "metadata": {
      "needs_background": "light"
     },
     "output_type": "display_data"
    }
   ],
   "source": [
    "# Plotting the actual vs predicted values\n",
    "sns.lmplot(x='VLMTmean', y='Predicted', data=df_results, height=8).set(ylim=(1.25, 2.5), xlim=(1.25, 2.5))\n",
    "plt.title('Actual vs. Predicted')"
   ]
  },
  {
   "cell_type": "markdown",
   "id": "1bf67444",
   "metadata": {},
   "source": [
    "# VLCSAmean"
   ]
  },
  {
   "cell_type": "code",
   "execution_count": 445,
   "id": "4ad9a7d0",
   "metadata": {
    "scrolled": true
   },
   "outputs": [],
   "source": [
    "# WITH a random_state parameter:\n",
    "#  (Same split every time! Note you can change the random state to any integer.)\n",
    "X_train, X_test, y_train, y_test = train_test_split(X, y5, random_state=1)\n",
    "# Create linear regression model\n",
    "lin_reg_mod = LinearRegression()\n",
    "# Fit linear regression\n",
    "lin_reg_mod.fit(X_train, y_train)\n",
    "# Make prediction on the testing data\n",
    "pred = lin_reg_mod.predict(X_test)"
   ]
  },
  {
   "cell_type": "code",
   "execution_count": 446,
   "id": "16a29db3",
   "metadata": {
    "scrolled": true
   },
   "outputs": [
    {
     "name": "stdout",
     "output_type": "stream",
     "text": [
      "-0.43065925320396703\n"
     ]
    }
   ],
   "source": [
    "# Calculate the R^2 or coefficent of determination between the actual & predicted\n",
    "test_set_r2 = r2_score(y_test, pred)\n",
    "# The closer towards 1, the better the fit\n",
    "print(test_set_r2)"
   ]
  },
  {
   "cell_type": "code",
   "execution_count": 447,
   "id": "5e8c9f43",
   "metadata": {
    "scrolled": true
   },
   "outputs": [
    {
     "name": "stdout",
     "output_type": "stream",
     "text": [
      "4.844958226922921\n"
     ]
    }
   ],
   "source": [
    "# Calculate the Root Mean Square Error between the actual & predicted\n",
    "test_set_rmse = (np.sqrt(mean_squared_error(y_test, pred)))\n",
    "# Note that for rmse, the lower that value is, the better the fit\n",
    "print(test_set_rmse)"
   ]
  },
  {
   "cell_type": "code",
   "execution_count": 448,
   "id": "4f1bfcb6",
   "metadata": {
    "scrolled": true
   },
   "outputs": [
    {
     "name": "stdout",
     "output_type": "stream",
     "text": [
      "     VLCSAmean  Predicted  Residuals\n",
      "46      12.212  12.756681  -0.544681\n",
      "53      13.212  13.122823   0.089177\n",
      "32      18.304  15.191889   3.112111\n",
      "48      14.370  14.437473  -0.067473\n",
      "43      11.740  15.112273  -3.372273\n",
      "98      10.853  13.533857  -2.680857\n",
      "71       9.380  11.428109  -2.048109\n",
      "82      18.273  12.237849   6.035151\n",
      "103     10.446  11.735855  -1.289855\n",
      "69      11.630  18.363070  -6.733070\n",
      "80      16.301  15.997910   0.303090\n",
      "63      15.933   8.672466   7.260534\n",
      "57       8.310  11.076564  -2.766564\n",
      "79      12.516  14.486870  -1.970870\n",
      "76      24.229  13.701905  10.527095\n",
      "13      19.668  12.592945   7.075055\n",
      "2       12.384  17.299252  -4.915252\n",
      "42       9.113  10.886311  -1.773311\n",
      "81      13.607  16.858739  -3.251739\n",
      "54      20.961  10.666660  10.294340\n",
      "23      16.082  14.886676   1.195324\n",
      "94      17.023  11.568798   5.454202\n"
     ]
    },
    {
     "name": "stderr",
     "output_type": "stream",
     "text": [
      "<ipython-input-448-66df4c25d7d3>:2: SettingWithCopyWarning: \n",
      "A value is trying to be set on a copy of a slice from a DataFrame.\n",
      "Try using .loc[row_indexer,col_indexer] = value instead\n",
      "\n",
      "See the caveats in the documentation: https://pandas.pydata.org/pandas-docs/stable/user_guide/indexing.html#returning-a-view-versus-a-copy\n",
      "  df_results['Predicted'] = pred.ravel()\n",
      "<ipython-input-448-66df4c25d7d3>:3: SettingWithCopyWarning: \n",
      "A value is trying to be set on a copy of a slice from a DataFrame.\n",
      "Try using .loc[row_indexer,col_indexer] = value instead\n",
      "\n",
      "See the caveats in the documentation: https://pandas.pydata.org/pandas-docs/stable/user_guide/indexing.html#returning-a-view-versus-a-copy\n",
      "  df_results['Residuals'] = abs(df_results['VLCSAmean']) - abs(df_results['Predicted'])\n"
     ]
    }
   ],
   "source": [
    "df_results = y_test\n",
    "df_results['Predicted'] = pred.ravel()\n",
    "df_results['Residuals'] = abs(df_results['VLCSAmean']) - abs(df_results['Predicted'])\n",
    "print(df_results)"
   ]
  },
  {
   "cell_type": "code",
   "execution_count": 449,
   "id": "138e60b0",
   "metadata": {
    "scrolled": false
   },
   "outputs": [
    {
     "data": {
      "text/plain": [
       "Text(0.5, 1.0, 'Actual vs. Predicted')"
      ]
     },
     "execution_count": 449,
     "metadata": {},
     "output_type": "execute_result"
    },
    {
     "data": {
      "image/png": "[encoded data removed]",
      "text/plain": [
       "<Figure size 576x576 with 1 Axes>"
      ]
     },
     "metadata": {
      "needs_background": "light"
     },
     "output_type": "display_data"
    }
   ],
   "source": [
    "# Plotting the actual vs predicted values\n",
    "sns.lmplot(x='VLCSAmean', y='Predicted', data=df_results, height=8).set(ylim=(7.5, 20), xlim=(7.5, 20))\n",
    "plt.title('Actual vs. Predicted')"
   ]
  },
  {
   "cell_type": "markdown",
   "id": "8ad74639",
   "metadata": {},
   "source": [
    "# VLEImean"
   ]
  },
  {
   "cell_type": "code",
   "execution_count": 454,
   "id": "ad8abc32",
   "metadata": {
    "scrolled": true
   },
   "outputs": [],
   "source": [
    "# WITH a random_state parameter:\n",
    "#  (Same split every time! Note you can change the random state to any integer.)\n",
    "X_train, X_test, y_train, y_test = train_test_split(X, y6, random_state=1)\n",
    "# Create linear regression model\n",
    "lin_reg_mod = LinearRegression()\n",
    "# Fit linear regression\n",
    "lin_reg_mod.fit(X_train, y_train)\n",
    "# Make prediction on the testing data\n",
    "pred = lin_reg_mod.predict(X_test)"
   ]
  },
  {
   "cell_type": "code",
   "execution_count": 455,
   "id": "1f6ca3fe",
   "metadata": {
    "scrolled": true
   },
   "outputs": [
    {
     "name": "stdout",
     "output_type": "stream",
     "text": [
      "-0.34643882667712256\n"
     ]
    }
   ],
   "source": [
    "# Calculate the R^2 or coefficent of determination between the actual & predicted\n",
    "test_set_r2 = r2_score(y_test, pred)\n",
    "# The closer towards 1, the better the fit\n",
    "print(test_set_r2)"
   ]
  },
  {
   "cell_type": "code",
   "execution_count": 456,
   "id": "aa1d9582",
   "metadata": {
    "scrolled": true
   },
   "outputs": [
    {
     "name": "stdout",
     "output_type": "stream",
     "text": [
      "12.597286330370565\n"
     ]
    }
   ],
   "source": [
    "# Calculate the Root Mean Square Error between the actual & predicted\n",
    "test_set_rmse = (np.sqrt(mean_squared_error(y_test, pred)))\n",
    "# Note that for rmse, the lower that value is, the better the fit\n",
    "print(test_set_rmse)"
   ]
  },
  {
   "cell_type": "code",
   "execution_count": 457,
   "id": "b39fa850",
   "metadata": {
    "scrolled": true
   },
   "outputs": [
    {
     "name": "stdout",
     "output_type": "stream",
     "text": [
      "     VLEImean  Predicted  Residuals\n",
      "46     67.631  62.756159   4.874841\n",
      "53     61.237  61.780515  -0.543515\n",
      "32     63.264  52.185789  11.078211\n",
      "48     52.298  50.279101   2.018899\n",
      "43     72.406  69.351154   3.054846\n",
      "98     40.228  61.370035 -21.142035\n",
      "71     59.644  53.480012   6.163988\n",
      "82     58.393  65.321947  -6.928947\n",
      "103    61.361  63.755666  -2.394666\n",
      "69     83.429  47.528015  35.900985\n",
      "80     42.403  53.247525 -10.844525\n",
      "63     60.640  63.385015  -2.745015\n",
      "57     46.565  69.226797 -22.661797\n",
      "79     69.450  65.521825   3.928175\n",
      "76     55.349  58.186265  -2.837265\n",
      "13     56.773  46.213715  10.559285\n",
      "2      61.616  49.258475  12.357525\n",
      "42     63.649  72.884442  -9.235442\n",
      "81     68.919  63.498048   5.420952\n",
      "54     34.280  50.469982 -16.189982\n",
      "23     60.860  58.919598   1.940402\n",
      "94     55.302  69.318824 -14.016824\n"
     ]
    },
    {
     "name": "stderr",
     "output_type": "stream",
     "text": [
      "<ipython-input-457-c068302c0b8e>:2: SettingWithCopyWarning: \n",
      "A value is trying to be set on a copy of a slice from a DataFrame.\n",
      "Try using .loc[row_indexer,col_indexer] = value instead\n",
      "\n",
      "See the caveats in the documentation: https://pandas.pydata.org/pandas-docs/stable/user_guide/indexing.html#returning-a-view-versus-a-copy\n",
      "  df_results['Predicted'] = pred.ravel()\n",
      "<ipython-input-457-c068302c0b8e>:3: SettingWithCopyWarning: \n",
      "A value is trying to be set on a copy of a slice from a DataFrame.\n",
      "Try using .loc[row_indexer,col_indexer] = value instead\n",
      "\n",
      "See the caveats in the documentation: https://pandas.pydata.org/pandas-docs/stable/user_guide/indexing.html#returning-a-view-versus-a-copy\n",
      "  df_results['Residuals'] = abs(df_results['VLEImean']) - abs(df_results['Predicted'])\n"
     ]
    }
   ],
   "source": [
    "df_results = y_test\n",
    "df_results['Predicted'] = pred.ravel()\n",
    "df_results['Residuals'] = abs(df_results['VLEImean']) - abs(df_results['Predicted'])\n",
    "print(df_results)"
   ]
  },
  {
   "cell_type": "code",
   "execution_count": 459,
   "id": "61ddf844",
   "metadata": {
    "scrolled": false
   },
   "outputs": [
    {
     "data": {
      "text/plain": [
       "Text(0.5, 1.0, 'Actual vs. Predicted')"
      ]
     },
     "execution_count": 459,
     "metadata": {},
     "output_type": "execute_result"
    },
    {
     "data": {
      "image/png": "[encoded data removed]",
      "text/plain": [
       "<Figure size 576x576 with 1 Axes>"
      ]
     },
     "metadata": {
      "needs_background": "light"
     },
     "output_type": "display_data"
    }
   ],
   "source": [
    "# Plotting the actual vs predicted values\n",
    "sns.lmplot(x='VLEImean', y='Predicted', data=df_results, height=8)\n",
    "plt.title('Actual vs. Predicted')"
   ]
  },
  {
   "cell_type": "code",
   "execution_count": null,
   "id": "191a9059",
   "metadata": {},
   "outputs": [],
   "source": []
  }
 ],
 "metadata": {
  "kernelspec": {
   "display_name": "Python 3",
   "language": "python",
   "name": "python3"
  },
  "language_info": {
   "codemirror_mode": {
    "name": "ipython",
    "version": 3
   },
   "file_extension": ".py",
   "mimetype": "text/x-python",
   "name": "python",
   "nbconvert_exporter": "python",
   "pygments_lexer": "ipython3",
   "version": "3.8.8"
  }
 },
 "nbformat": 4,
 "nbformat_minor": 5
}
